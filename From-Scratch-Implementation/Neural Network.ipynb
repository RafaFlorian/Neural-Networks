{
 "cells": [
  {
   "cell_type": "markdown",
   "id": "01c32572",
   "metadata": {},
   "source": [
    "### Importing the libraries"
   ]
  },
  {
   "cell_type": "code",
   "execution_count": 1,
   "id": "90069ea8",
   "metadata": {},
   "outputs": [],
   "source": [
    "import numpy as np\n",
    "import math as m\n",
    "import pandas as pd\n",
    "from random import random\n",
    "from random import seed"
   ]
  },
  {
   "cell_type": "markdown",
   "id": "2d82544f",
   "metadata": {},
   "source": [
    "### Initialize the network "
   ]
  },
  {
   "cell_type": "code",
   "execution_count": 2,
   "id": "533fa76a",
   "metadata": {},
   "outputs": [],
   "source": [
    "# 1 hidden layer initialization\n",
    "class network:\n",
    "    \n",
    "    \n",
    "    #number of nodes for wach layer\n",
    "    def __init__(self, n_input, n_hidden, n_output):\n",
    "        self.n_input = n_input\n",
    "        self.n_hidden = n_hidden\n",
    "        self.n_output = n_output\n",
    "    \n",
    "    \n",
    "    #weights for input->hidden layer\n",
    "    def w_hidden(self):\n",
    "        \n",
    "        w_hidden = []\n",
    "        for weights in range(self.n_input*self.n_hidden):\n",
    "            w_hidden.append(np.random.rand())\n",
    "            \n",
    "        return w_hidden\n",
    "            \n",
    "    \n",
    "    \n",
    "    #weights for output->layer\n",
    "    def w_output(self):\n",
    "        \n",
    "        w_output = []\n",
    "        for weights in range(self.n_output*self.n_hidden):\n",
    "            w_output.append(np.random.rand())\n",
    "            \n",
    "        return w_output\n",
    "            \n",
    "    \n",
    "    #hidden layer bias\n",
    "    b_hidden = random()\n",
    " \n",
    "    #output layer bias\n",
    "    b_output = random()    \n",
    "    "
   ]
  },
  {
   "cell_type": "code",
   "execution_count": 3,
   "id": "c4fa7080",
   "metadata": {},
   "outputs": [
    {
     "name": "stdout",
     "output_type": "stream",
     "text": [
      "number of input nodes = 2\n",
      "number of hidden nodes = 2\n",
      "number of outut nodes = 1\n",
      "\n",
      "\n",
      "For hidden layer:\n",
      "w1 = 0.8065741037979052\n",
      "w2 = 0.7895046978831495\n",
      "w3 = 0.9221985677686324\n",
      "w4 = 0.8096963449157225\n",
      "\n",
      "\n",
      "For output layer:\n",
      "w1 = 0.44696507653787754\n",
      "w2 = 0.9462206884030798\n",
      "\n",
      "\n",
      "hidden layer bias =  0.5021037585115692\n",
      "output layer bias =  0.6430767484936225\n"
     ]
    }
   ],
   "source": [
    "inp = int(input(\"number of input nodes = \"))\n",
    "hid  = int(input(\"number of hidden nodes = \"))\n",
    "out = int(input(\"number of outut nodes = \"))\n",
    "\n",
    "print(\"\\n\")\n",
    "\n",
    "nn = network(inp,hid,out)\n",
    "# display weights and bias\n",
    "\n",
    "h = 1\n",
    "print(\"For hidden layer:\")\n",
    "for w in nn.w_hidden():\n",
    "    print(\"w{} = {}\".format(h,w))\n",
    "    h = h + 1\n",
    "    \n",
    "print(\"\\n\")\n",
    "\n",
    "o = 1\n",
    "print(\"For output layer:\")\n",
    "for w in nn.w_output():\n",
    "    print(\"w{} = {}\".format(o,w))\n",
    "    o = o + 1\n",
    "    \n",
    "print(\"\\n\") \n",
    "\n",
    "print(\"hidden layer bias = \",nn.b_hidden)\n",
    "print(\"output layer bias = \",nn.b_output)\n",
    "\n"
   ]
  },
  {
   "cell_type": "markdown",
   "id": "4de2d291",
   "metadata": {},
   "source": [
    "### Forward propagation:"
   ]
  },
  {
   "cell_type": "code",
   "execution_count": 15,
   "id": "4785097a",
   "metadata": {},
   "outputs": [
    {
     "name": "stdout",
     "output_type": "stream",
     "text": [
      "[0.9751394170802171, 0.11899682023180458, 0.5249137471646844, 0.6251733232633176]\n",
      "[0.24040159782123582, 0.22045051132539206]\n",
      "a\n",
      "0.1\n",
      "0.09751394170802172\n",
      "0.1\n",
      "0.10941362373120217\n",
      "a\n",
      "0.2\n",
      "0.3044415071472456\n",
      "0.2\n",
      "0.3282408711936065\n"
     ]
    },
    {
     "data": {
      "text/plain": [
       "[0.10941362373120217, 0.3282408711936065]"
      ]
     },
     "execution_count": 15,
     "metadata": {},
     "output_type": "execute_result"
    }
   ],
   "source": [
    "#Net input\n",
    "# We'll calculate the net input for each hidden node\n",
    "\n",
    "weighs_hidden = [i for i in nn.w_hidden()]\n",
    "print(weighs_hidden)\n",
    "\n",
    "weighs_output = [i for i in nn.w_output()]\n",
    "print(weighs_output)\n",
    "\n",
    "bias_hidden = nn.b_hidden\n",
    "bias_output = nn.b_output\n",
    "\n",
    "def activation(inputs):\n",
    "    hi = 0\n",
    "    activ = []\n",
    "    for i in range(2):\n",
    "        print(\"a\")\n",
    "        for j in range(hid):\n",
    "            x = inputs[i]*weighs_hidden[j]\n",
    "            print(inputs[i])\n",
    "            hi  = hi + x\n",
    "            print(hi)\n",
    "        activ.append(hi)\n",
    "        \n",
    "    return activ\n",
    "\n",
    "    \n",
    "    \n",
    "\n",
    "     \n",
    "        \n",
    "inputs = [0.1,0.2]\n",
    "activation(inputs)"
   ]
  }
 ],
 "metadata": {
  "kernelspec": {
   "display_name": "Python 3",
   "language": "python",
   "name": "python3"
  },
  "language_info": {
   "codemirror_mode": {
    "name": "ipython",
    "version": 3
   },
   "file_extension": ".py",
   "mimetype": "text/x-python",
   "name": "python",
   "nbconvert_exporter": "python",
   "pygments_lexer": "ipython3",
   "version": "3.8.8"
  }
 },
 "nbformat": 4,
 "nbformat_minor": 5
}
